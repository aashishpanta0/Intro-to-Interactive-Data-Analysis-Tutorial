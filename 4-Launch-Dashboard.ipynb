{
    "cells": [
        {
            "cell_type": "markdown",
            "id": "82e2641b",
            "metadata": {},
            "source": [
                "## Launch OpenVisus Dashboard\n",
                "\n",
                "This notebook provides step-by-step instructions to set up and launch the OpenVisus dashboard for interactive data analysis."
            ]
        },
        {
            "cell_type": "markdown",
            "id": "ad5884b7",
            "metadata": {},
            "source": [
                "### Step 1: Set the Dashboard Port\n",
                "\n",
                "You can change the port if needed. Default is `8989`.\n",
                "```bash\n",
                "export PORT=8989\n",
                "```\n",
                "\n",
                "### Step 2: Clone the OpenVisusPy Repository\n",
                "\n",
                "```bash\n",
                "git clone https://github.com/sci-visus/openvisuspy.git\n",
                "cd openvisuspy\n",
                "```"
            ]
        },
        {
            "cell_type": "markdown",
            "id": "05697186",
            "metadata": {},
            "source": [
                "### Step 3: Create and Activate a Python Virtual Environment\n",
                "\n",
                "```bash\n",
                "python -m venv .test_venv\n",
                "source .test_venv/bin/activate  # On Windows use `.test_venv\\Scripts\\activate`\n",
                "```\n",
                "\n",
                "### Step 4: Install Required Python Libraries\n",
                "\n",
                "Install all dependencies for the dashboard:\n",
                "```bash\n",
                "python -m pip install --verbose --no-cache --no-warn-script-location setuptools bokeh panel xmltodict boto3 colorcet basemap numpy ipykernel ipywidgets ipywidgets_bokeh disutils\n",
                "\n",
                "python -m pip install OpenVisus openvisuspy\n",
                "```"
            ]
        },
        {
            "cell_type": "markdown",
            "id": "f57f3d8a",
            "metadata": {},
            "source": [
                "### Step 5: Set Environment Variables\n",
                "\n",
                "These variables configure cache and dashboard resources:\n",
                "```bash\n",
                "export VISUS_CACHE=\"/tmp/visus-cache/nasa3\"\n",
                "export BOKEH_ALLOW_WS_ORIGIN=\"*\"\n",
                "export BOKEH_RESOURCES=\"cdn\"\n",
                "export PYTHONPATH=$PWD/app\n",
                "```\n",
                "\n",
                "\n",
                "### Step 6: Launch the Dashboard\n",
                "\n",
                "Run the following command to start the dashboard server. Replace the dataset URL if needed.\n",
                "\n",
                "```bash\n",
                "panel serve ./app/  --port 9999 \\\n",
                " --args  \"http://atlantis.sci.utah.edu/mod_visus?dataset=nex-gddp-cmip6&cached=arco\"\n",
                "```\n",
                "\n",
                "### Step 7: Access the Dashboard\n",
                "\n",
                "Open your browser and go to:\n",
                "\n",
                "`http://localhost:8989`\n",
                "\n",
                "or use your chosen port.\n",
                "\n",
                "---\n",
                "\n",
                "For more information, visit the [OpenVisusPy GitHub](https://github.com/sci-visus/openvisuspy) or reach out to the maintainers."
            ]
        },
        {
            "cell_type": "markdown",
            "id": "0f8ed55b",
            "metadata": {},
            "source": []
        }
    ],
    "metadata": {
        "language_info": {
            "name": "python"
        }
    },
    "nbformat": 4,
    "nbformat_minor": 5
}
