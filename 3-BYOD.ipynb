{
    "cells": [
        {
            "cell_type": "markdown",
            "id": "db1dce6d",
            "metadata": {},
            "source": [
                "# Bring Your Own Data (BYOD) Template\n",
                "\n",
                "This notebook provides a template for users to load their own dataset and convert it to OpenVisus IDX format. The data could be of any format as long as they can be loaded into thememory as numpy arrays.\n",
                "\n",
                "## Step 1: Import Libraries"
            ]
        },
        {
            "cell_type": "code",
            "execution_count": null,
            "id": "99bca817",
            "metadata": {},
            "outputs": [],
            "source": [
                "import numpy as np\n",
                "import OpenVisus as ov\n",
                "import xarray as xr\n"
            ]
        },
        {
            "cell_type": "markdown",
            "id": "7554078a",
            "metadata": {},
            "source": [
                "## Step 2: Set Your File Paths and Parameters\n",
                "\n",
                "Update the variables below to match your dataset."
            ]
        },
        {
            "cell_type": "code",
            "execution_count": null,
            "id": "933234d2",
            "metadata": {},
            "outputs": [],
            "source": [
                "# Example: local_nc = 'path/to/your/file.nc'\n",
                "local_nc = 'your_file.nc'  # Path to your data\n",
                "field_name = 'your_field_name'  # Name for the IDX field\n",
                "idx_name = 'your_idx_name'      # Name for the IDX file\n",
                "dims = [h, w]             # Update with your data dimensions\n",
                "timesteps=[]                  # Update with your year or time info"
            ]
        },
        {
            "cell_type": "markdown",
            "id": "2d2dfe89",
            "metadata": {},
            "source": [
                "### Step 3: Load Your Data"
            ]
        },
        {
            "cell_type": "code",
            "execution_count": null,
            "id": "142d6db9",
            "metadata": {},
            "outputs": [],
            "source": [
                "ds = xr.open_dataset(local_nc)\n",
                "data = ds['your_variable'].values  # Replace 'your_variable' with your variable name\n",
                "print(data.shape)"
            ]
        },
        {
            "cell_type": "markdown",
            "id": "1141bb8e",
            "metadata": {},
            "source": [
                "### Step 4: Create IDX Dataset and Write Data"
            ]
        },
        {
            "cell_type": "code",
            "execution_count": null,
            "id": "c5934a5e",
            "metadata": {},
            "outputs": [],
            "source": [
                "field = ov.Field(field_name, 'float32')\n",
                "os.makedirs('idx_dir', exist_ok=True)\n",
                "idx = ov.CreateIdx(\n",
                "    url=f'idx_dir/{idx_name}.idx',\n",
                "    fields=[field],\n",
                "    time=[TIME_START, TIME_END, 'time_%d/'],\n",
                "    arco='modvisus',\n",
                "    dims=dims,\n",
                ")\n",
                "\n",
                "for day in range(data.shape[0]):\n",
                "    idx.write(data[day], time=TIME_OF_INTEREST, field=field)\n",
                "\n",
                "ds.close()"
            ]
        },
        {
            "cell_type": "markdown",
            "id": "c15778b6",
            "metadata": {},
            "source": [
                "### Step 5: (Optional) Compress IDX Dataset"
            ]
        },
        {
            "cell_type": "code",
            "execution_count": null,
            "id": "10e449fc",
            "metadata": {},
            "outputs": [],
            "source": [
                "idx.compressDataset(compression='zip')"
            ]
        },
        {
            "cell_type": "markdown",
            "id": "50df79ca",
            "metadata": {},
            "source": [
                "### Step 6: Verify the Data"
            ]
        },
        {
            "cell_type": "code",
            "execution_count": null,
            "id": "fc870e04",
            "metadata": {},
            "outputs": [],
            "source": [
                "db = ov.LoadDataset(f'idx_dir/{idx_name}.idx')\n",
                "data = db.read()\n",
                "import matplotlib.pyplot as plt\n",
                "plt.imshow(data, cmap='viridis', origin='lower')\n",
                "plt.colorbar(label='Your Variable Units')\n",
                "plt.show()"
            ]
        }
    ],
    "metadata": {
        "language_info": {
            "name": "python"
        }
    },
    "nbformat": 4,
    "nbformat_minor": 5
}
